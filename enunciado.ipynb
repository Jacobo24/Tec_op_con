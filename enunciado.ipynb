{
 "cells": [
  {
   "cell_type": "markdown",
   "metadata": {},
   "source": [
    "Los economistas del Banco Central Europeo han ajustado los datos de variación de\n",
    "la tasa de ahorro de las familias (\\%$\\Delta$ Tasa de ahorro) en función de la variación de\n",
    "PIB (\\%$\\Delta$ PIB) y la variación del consumo de los hogares (\\%$\\Delta$ CH) en función del\n",
    "tiempo $t$ en trimestres. Todas las tasas de variación son inter-trimestrales. Si\n",
    "consideramos, para simplificar el problema, que $x = \\%\\Delta\\text {PIB}$ e $y = \\%\\Delta\\text {CH}$, la ecuación a\n",
    "optimizar es:\n",
    "\n",
    "$$\n",
    "\\%\\Delta\\text{Tasa de ahorro} = J = \\int \\left[ (1 + t^2) \\cdot (\\Delta\\text{PIB}_t) + (\\Delta\\text{CH}_t) + \n",
    "\\left( \\frac{\\partial \\Delta\\text{PIB}_t}{\\partial t} \\right)^2 + \n",
    "\\left( \\frac{\\partial \\Delta\\text{CH}_t}{\\partial t} \\right)^3 \\right] \\cdot dt\n",
    "$$\n",
    "\n",
    "$$\n",
    "\\%\\Delta\\text{Tasa de ahorro} = J = \\int \\left[ (1 + t^2) \\cdot x(t) + y(t) + \n",
    "\\left( \\frac{\\partial x(t)}{\\partial t} \\right)^2 + \n",
    "\\left( \\frac{\\partial y(t)}{\\partial t} \\right)^3 \\right] \\cdot dt\n",
    "$$\n",
    "\n",
    "\n",
    "a) Mediante el cálculo de variaciones, calcular las curvas óptimas de PIB y de CH\n",
    "en función de $t$ (en función de las constantes de integración), que optimizan\n",
    "el problema.\n",
    "\n",
    "b) Se ha establecido para la simulación que para $t = 0.5\\$, la tasa de variación del\n",
    "PIB y del consumo de los hogares es de 0.5\\%. De igual modo, para $t = 1$, las tasas\n",
    "de variación de PIB y de consumo de los hogares es del 1\\%. Calcular las\n",
    "curvas óptimas bajo estas condiciones de contorno. Dibujar las curvas. Nota:\n",
    "se aconseja usar métodos numéricos, especialmente el método de Newton-Raphson.\n",
    "\n",
    "c) Los economistas necesitan saber si existe un punto $t^*$ que iguale las curvas\n",
    "de optimización. Demostrar si existe este punto desde un punto de vista\n",
    "gráfico dentro de los intervalos de $t$ de 0 a 2. ¿Qué significado económico\n",
    "podemos concluir tras este análisis?\n",
    "\n",
    "d) Aplicando la distancia por diferencias (diferencia entre los valores de $x^*$ e $y^*$),\n",
    "calcular el punto $t^*$ que minimice dicha distancia entre curvas. Razonar la\n",
    "respuesta e indicar cómo usar este parámetro desde un punto de vista\n",
    "económico. Nota: se aconseja usar métodos numéricos, especialmente el\n",
    "método de Newton-Raphson.\n",
    "\n"
   ]
  }
 ],
 "metadata": {
  "language_info": {
   "name": "python"
  }
 },
 "nbformat": 4,
 "nbformat_minor": 2
}
